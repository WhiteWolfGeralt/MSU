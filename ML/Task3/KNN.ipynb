{
 "cells": [
  {
   "cell_type": "markdown",
   "metadata": {
    "id": "foWLoL5c5cAP"
   },
   "source": [
    "# Курс по машинному обучению,   ВМК МГУ\n",
    "# KNN: Классификация и регрессия"
   ]
  },
  {
   "cell_type": "markdown",
   "metadata": {
    "id": "bymVrNKa5cAR"
   },
   "source": [
    "### Важно! О формате сдачи\n",
    "\n",
    "* **Задания из ноутбука, за исключением двух заданий на реализацию кода, оцениваются по системе <font color='red'>кросс-рецензирования</font>.**\n",
    "* **При решении ноутбука используйте данный шаблон. Не нужно удалять текстовые ячейки c разметкой частей ноутбука и формулировками заданий. Добавлять свои ячейки, при необходимости, конечно можно**\n",
    "* **Везде, где в формулровке задания есть какой-либо вопрос (или просьба вывода), необходимо прописать ответ в ячейку (код или markdown).**\n",
    "* **Наличие кода решения обязательно. Письменные ответы на вопросы без сопутствующего кода оцениваются в 0 баллов.**"
   ]
  },
  {
   "cell_type": "markdown",
   "metadata": {
    "id": "8sFWEZon5cAS"
   },
   "source": [
    "### Важно!\n",
    "\n",
    "**Перед тем, как сдать ноутбук на кросс-рецензирование, мы рекомендуем перезапустить ядро и выполнить весь ноутбук (cell -> run all)**"
   ]
  },
  {
   "cell_type": "markdown",
   "metadata": {
    "id": "UtJgw8Bt5cAS"
   },
   "source": [
    "# Часть 0. Знакомство с библиотекой scikit-learn"
   ]
  },
  {
   "cell_type": "markdown",
   "metadata": {
    "id": "-dcdObd45cAS"
   },
   "source": [
    "Scikit-learn - это библиотека машинного обучения с открытым исходным кодом, которая предоставляет различные инструменты для предобработки данных и обучения моделей.\n",
    "\n",
    "Каждый модуль предобработки данных имеет два метода: fit и transform. Как правило, метод fit принимает на вход **обучающую** выборку $X$ и считает по ней необходимые для заданного типа преобразования статистики. Метод transform преобразует входные **(train и test)** данные, используя статистики, посчитанные при вызове метода fit и возвращает преобразованные данные.\n",
    "\n",
    "Каждая модель машинного обучения имеет два метода: fit - метод ответственный за обучения модели и predict - метод ответственный за предсказание целевой переменной. Многие модели имеют метод predcit_proba, который возвращает вероятность принадлежности объекта к каждому из классов. Как правило, метод fit принимает на вход два аргумента: $X$ - **обучающая** выборка, $y$ - значения целевых переменных на объектах обучающей выборки. Метод predict принимает на вход набор данных и выдает предсказанные значения целевых переменных на этом наборе данных.\n",
    "\n",
    "Более подробно про библиотеку можно прочитать в документации по [ссылке](https://scikit-learn.org/stable/index.html)"
   ]
  },
  {
   "cell_type": "markdown",
   "metadata": {
    "id": "olBMKZux5cAT"
   },
   "source": [
    "# Часть 1. Нормализация признакового пространства"
   ]
  },
  {
   "cell_type": "markdown",
   "metadata": {
    "id": "oTzZwO345cAT"
   },
   "source": [
    "В задачах машинного обучения важную роль играет нормализация данных. Для числовых признаков, как правило, используют два типа нормализации:\n",
    "\n",
    "* Нормализация к распределению с нулевым матожиданием и единичной дисперсией $x := \\frac{x - E(x)}{\\sigma (x)}$, где матожидание $E(x)$ и стандартное отклонение $\\sigma (x)$ считаются по каждому признаку (столбцу) отдельно\n",
    "* Нормализация в отрезок [0, 1] $x := \\frac{x - \\min(x)}{\\max(x) - \\min(x)}$, где минимум и максимум берется по каждому признаку (столбцу) отдельно"
   ]
  },
  {
   "cell_type": "markdown",
   "metadata": {
    "id": "5E4IU3w_5cAU"
   },
   "source": [
    "Рассмотрим пример. Ниже приведены: таблца до нормализации признаков, таблица после нормализации к нулевому матожиданию и единичной дисперсии, таблица после нормализации в отрезок [0, 1]\n",
    "\n",
    "До нормализации \n",
    "\n",
    "| Признак 1   | Признак 2   |\n",
    "| ----------- | ----------- |\n",
    "| 1           | 2           |\n",
    "| 2           | -1          |\n",
    "| 3           | 0           |\n",
    "\n",
    "Нормализация к нулевому матожиданию и единичной дисперсии\n",
    "\n",
    "| Признак 1   | Признак 2   |\n",
    "| ----------- | ----------- |\n",
    "| -1.225      | 1.336       |\n",
    "| 0           | -1.069      |\n",
    "| 1.225       | -0.267      |\n",
    "\n",
    "Нормализация в отрезок [0, 1]\n",
    "\n",
    "| Признак 1   | Признак 2   |\n",
    "| ----------- | ----------- |\n",
    "| 0           | 1           |\n",
    "| 0.5         | 0           |\n",
    "| 1           | 0.333       |"
   ]
  },
  {
   "cell_type": "markdown",
   "metadata": {
    "id": "uJEvsBrw5cAU"
   },
   "source": [
    "**Задание 1.1** (тесты, 5 баллов) В модуле scalers.py реализуйте два вида нормализации признакового пространства. StandardScaler - нормализация к распределению с нулевым матожиданием и единичной дисперсией, MinMaxScaler - нормализация в отрезок [0, 1].\n",
    "\n",
    "Нормализаторы имеют два метода - метод fit и метод transform. Метод fit получает на вход **обучающую** выборку и считает по ней все необходимые для заданного преобразования статистики. Метод transform преобразует данные, используя статистистики, посчитанные при вызове метода fit."
   ]
  },
  {
   "cell_type": "code",
   "execution_count": 1,
   "metadata": {
    "colab": {
     "base_uri": "https://localhost:8080/",
     "height": 110,
     "resources": {
      "http://localhost:8080/nbextensions/google.colab/files.js": {
       "data": "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",
       "headers": [
        [
         "content-type",
         "application/javascript"
        ]
       ],
       "ok": true,
       "status": 200,
       "status_text": ""
      }
     }
    },
    "executionInfo": {
     "elapsed": 8555,
     "status": "ok",
     "timestamp": 1635895517965,
     "user": {
      "displayName": "Daniil Subbotin",
      "photoUrl": "https://lh3.googleusercontent.com/a-/AOh14GheF9BAoXxeH4n1DWWfIc7-z6MTUhCrESXm2qN2=s64",
      "userId": "15773641866656988655"
     },
     "user_tz": -180
    },
    "id": "1LCdGKQLqe7j",
    "outputId": "5d2875c1-fdaf-4436-aac8-bb551f62472a"
   },
   "outputs": [
    {
     "data": {
      "text/html": [
       "\n",
       "     <input type=\"file\" id=\"files-153042c2-9aba-43b3-b199-aaa1ad23bce5\" name=\"files[]\" multiple disabled\n",
       "        style=\"border:none\" />\n",
       "     <output id=\"result-153042c2-9aba-43b3-b199-aaa1ad23bce5\">\n",
       "      Upload widget is only available when the cell has been executed in the\n",
       "      current browser session. Please rerun this cell to enable.\n",
       "      </output>\n",
       "      <script src=\"/nbextensions/google.colab/files.js\"></script> "
      ],
      "text/plain": [
       "<IPython.core.display.HTML object>"
      ]
     },
     "metadata": {},
     "output_type": "display_data"
    },
    {
     "name": "stdout",
     "output_type": "stream",
     "text": [
      "Saving cross_val.py to cross_val.py\n"
     ]
    },
    {
     "data": {
      "text/plain": [
       "{'cross_val.py': b'import numpy as np\\nfrom collections import defaultdict\\n\\ndef kfold_split(num_objects, num_folds):\\n    \"\"\"\\n    Split [0, 1, ..., num_objects - 1] into equal num_folds folds (last fold can be longer) and returns num_folds train-val\\n       pairs of indexes.\\n\\n    Parameters:\\n    num_objects (int): number of objects in train set\\n    num_folds (int): number of folds for cross-validation split\\n\\n    Returns:\\n    list((tuple(np.array, np.array))): list of length num_folds, where i-th element of list contains tuple of 2 numpy arrays,\\n                                       the 1st numpy array contains all indexes without i-th fold while the 2nd one contains\\n                                       i-th fold\\n    \"\"\"\\n    partition = []\\n    size = num_objects // num_folds\\n    for i in range(0, num_folds - 1):\\n        partition.append(list(range(i * size, (i + 1) * size)))\\n    partition.append(list(range(partition[-1][-1] + 1, num_objects)))\\n\\n    ret = []\\n    for part in partition:\\n        ret.append([np.concatenate((np.arange(0, part[0]), np.arange(part[-1] + 1, num_objects))),\\n                    np.arange(part[0], part[-1] + 1)])\\n    return ret\\n\\n\\ndef knn_cv_score(x, y, parameters, score_function, folds, knn_class):\\n    \"\"\"\\n    Takes train data, counts cross-validation score over grid of parameters (all possible parameters combinations)\\n\\n    Parameters:\\n    X (2d np.array): train set\\n    y (1d np.array): train labels\\n    parameters (dict): dict with keys from {n_neighbors, metrics, weights, normalizers}, values of type list,\\n                       parameters[\\'normalizers\\'] contains tuples (normalizer, normalizer_name), see parameters\\n                       example in your jupyter notebook\\n    score_function (callable): function with input (y_predict, y_true) which outputs score metric\\n    folds (list): output of kfold_split\\n    knn_class (obj): class of knn model to fit\\n\\n    Returns:\\n    dict: key - tuple of (normalizer_name, n_neighbors, metric, weight), value - mean score over all folds\\n    \"\"\"\\n    ret = dict()\\n    for i in folds:\\n        for normalizers in parameters[\\'normalizers\\']:\\n            x_train, x_test = x[i[0]], x[i[1]]\\n            if normalizers[0] is not None:\\n                normalizers[0].fit(x_train)\\n                x_train, x_test = normalizers[0].transform(x_train), normalizers[0].transform(x_test)\\n            for n_neighbors in parameters[\\'n_neighbors\\']:\\n                for metrics in parameters[\\'metrics\\']:\\n                    for weights in parameters[\\'weights\\']:\\n                        clf = knn_class(n_neighbors=n_neighbors, weights=weights, metric=metrics)\\n                        clf.fit(x_train, y[i[0]])\\n                        score = score_function(y[i[1]], clf.predict(x_test))\\n                        if (normalizers[1], n_neighbors, metrics, weights) in ret:\\n                            ret[(normalizers[1], n_neighbors, metrics, weights)] += score / len(folds)\\n                        else:\\n                            ret[(normalizers[1], n_neighbors, metrics, weights)] = score / len(folds)\\n    return ret\\n'}"
      ]
     },
     "execution_count": 1,
     "metadata": {},
     "output_type": "execute_result"
    }
   ],
   "source": [
    "from google.colab import files\n",
    "files.upload()"
   ]
  },
  {
   "cell_type": "markdown",
   "metadata": {
    "id": "vF53ZoKa5cAV"
   },
   "source": [
    "Положите файл scalers.py в одну директорию с jupyter ноутбуком"
   ]
  },
  {
   "cell_type": "code",
   "execution_count": 68,
   "metadata": {
    "executionInfo": {
     "elapsed": 300,
     "status": "ok",
     "timestamp": 1635899355839,
     "user": {
      "displayName": "Daniil Subbotin",
      "photoUrl": "https://lh3.googleusercontent.com/a-/AOh14GheF9BAoXxeH4n1DWWfIc7-z6MTUhCrESXm2qN2=s64",
      "userId": "15773641866656988655"
     },
     "user_tz": -180
    },
    "id": "_fwGLFa25cAV"
   },
   "outputs": [],
   "source": [
    "from scalers import StandardScaler, MinMaxScaler"
   ]
  },
  {
   "cell_type": "code",
   "execution_count": 70,
   "metadata": {
    "executionInfo": {
     "elapsed": 315,
     "status": "ok",
     "timestamp": 1635899360620,
     "user": {
      "displayName": "Daniil Subbotin",
      "photoUrl": "https://lh3.googleusercontent.com/a-/AOh14GheF9BAoXxeH4n1DWWfIc7-z6MTUhCrESXm2qN2=s64",
      "userId": "15773641866656988655"
     },
     "user_tz": -180
    },
    "id": "oCXG0Ko75cAW"
   },
   "outputs": [],
   "source": [
    "import numpy as np\n",
    "import seaborn as sns\n",
    "import pickle\n",
    "\n",
    "from matplotlib import pyplot as plt\n",
    "\n",
    "\n",
    "plt.rcParams[\"figure.figsize\"] = (5,5)"
   ]
  },
  {
   "cell_type": "markdown",
   "metadata": {
    "id": "pgr1e-oH5cAW"
   },
   "source": [
    "Загрузим данные в память. В переменной $X$ будут храниться признаковые описания объектов, в переменной $y~-$ метки классов"
   ]
  },
  {
   "cell_type": "code",
   "execution_count": 71,
   "metadata": {
    "executionInfo": {
     "elapsed": 5,
     "status": "ok",
     "timestamp": 1635899362050,
     "user": {
      "displayName": "Daniil Subbotin",
      "photoUrl": "https://lh3.googleusercontent.com/a-/AOh14GheF9BAoXxeH4n1DWWfIc7-z6MTUhCrESXm2qN2=s64",
      "userId": "15773641866656988655"
     },
     "user_tz": -180
    },
    "id": "IPmbL6PW5cAX"
   },
   "outputs": [],
   "source": [
    "with open('data.pkl', 'rb') as file:\n",
    "    X, y = pickle.load(file)"
   ]
  },
  {
   "cell_type": "code",
   "execution_count": 72,
   "metadata": {
    "executionInfo": {
     "elapsed": 432,
     "status": "ok",
     "timestamp": 1635899363968,
     "user": {
      "displayName": "Daniil Subbotin",
      "photoUrl": "https://lh3.googleusercontent.com/a-/AOh14GheF9BAoXxeH4n1DWWfIc7-z6MTUhCrESXm2qN2=s64",
      "userId": "15773641866656988655"
     },
     "user_tz": -180
    },
    "id": "UknzFrRC5cAX"
   },
   "outputs": [],
   "source": [
    "def plot_data_points(X, labels, xlim, ylim):\n",
    "    g = sns.scatterplot(x=X[:, 0], y=X[:, 1], hue=labels)\n",
    "    g.set(xlim=xlim, ylim=ylim)\n",
    "    plt.xlabel('x')\n",
    "    plt.ylabel('y')\n",
    "    plt.grid()"
   ]
  },
  {
   "cell_type": "markdown",
   "metadata": {
    "id": "yArL1vy65cAX"
   },
   "source": [
    "Визуализируем наши данные"
   ]
  },
  {
   "cell_type": "code",
   "execution_count": 73,
   "metadata": {
    "colab": {
     "base_uri": "https://localhost:8080/",
     "height": 338
    },
    "executionInfo": {
     "elapsed": 651,
     "status": "ok",
     "timestamp": 1635899366627,
     "user": {
      "displayName": "Daniil Subbotin",
      "photoUrl": "https://lh3.googleusercontent.com/a-/AOh14GheF9BAoXxeH4n1DWWfIc7-z6MTUhCrESXm2qN2=s64",
      "userId": "15773641866656988655"
     },
     "user_tz": -180
    },
    "id": "-B_VPhf95cAX",
    "outputId": "73ffe2af-c663-4eef-e6b2-0fcf567a56cb"
   },
   "outputs": [
    {
     "data": {
      "image/png": "[encoded data removed]",
      "text/plain": [
       "<Figure size 360x360 with 1 Axes>"
      ]
     },
     "metadata": {
      "needs_background": "light"
     },
     "output_type": "display_data"
    }
   ],
   "source": [
    "plot_data_points(X, y, xlim=(-15, 15), ylim=(-15, 15))"
   ]
  },
  {
   "cell_type": "markdown",
   "metadata": {
    "id": "msNDknZr5cAY"
   },
   "source": [
    "Как видно, наши данные идеально разделяются прямой $x=0$"
   ]
  },
  {
   "cell_type": "markdown",
   "metadata": {
    "id": "wZFlqv8O5cAY"
   },
   "source": [
    "Функция $plot\\_knn\\_bound$ принимает на вход объекты $X$, метки классов $y$, метод нормализации признаков $scaler$, число соседей $n\\_neighbors$ и границы рисунка $xlim$, $ylim$. Функция обучает $KNN$ классификатор с числом соседей $n\\_neighbors$ и визуализирует разделяющую поверхность для классов, полученную с помощью обученного $KNN$ классификатора.\n",
    "\n",
    "* Если вы не можете различить _выбранные нами цвета_, то измените список цветов в переменных cmap_light и cmap_bold. Актуальный список возможных цветов находится [здесь](https://matplotlib.org/stable/tutorials/colors/colormaps.html)"
   ]
  },
  {
   "cell_type": "code",
   "execution_count": 74,
   "metadata": {
    "executionInfo": {
     "elapsed": 404,
     "status": "ok",
     "timestamp": 1635899369568,
     "user": {
      "displayName": "Daniil Subbotin",
      "photoUrl": "https://lh3.googleusercontent.com/a-/AOh14GheF9BAoXxeH4n1DWWfIc7-z6MTUhCrESXm2qN2=s64",
      "userId": "15773641866656988655"
     },
     "user_tz": -180
    },
    "id": "Iph-wsrP5cAY"
   },
   "outputs": [],
   "source": [
    "from matplotlib.colors import ListedColormap\n",
    "from sklearn import neighbors, datasets\n",
    "\n",
    "def plot_knn_bound(X, y, scaler=None, n_neighbors=10, xlim=(-15, 15), ylim=(-20, 20)):\n",
    "    # step size in the mesh\n",
    "    h = 0.05\n",
    "\n",
    "    # Create color maps\n",
    "    cmap_light = ListedColormap(['C0', 'orange', 'cyan', 'green'][:np.unique(y).shape[0]])\n",
    "    cmap_bold = ['C0', 'orange', 'c', 'darkgreen'][:np.unique(y).shape[0]]\n",
    "\n",
    "    x_min, x_max = xlim\n",
    "    y_min, y_max = ylim\n",
    "    xx, yy = np.meshgrid(np.arange(x_min, x_max, h),\n",
    "                         np.arange(y_min, y_max, h))\n",
    "    grid = np.c_[xx.ravel(), yy.ravel()]\n",
    "    \n",
    "    X_scaled = X # if scaler is None\n",
    "    if scaler is not None:\n",
    "        grid = scaler.transform(grid)\n",
    "        X_scaled = scaler.transform(X)\n",
    "\n",
    "    # we create an instance of Neighbours Classifier and fit the data.\n",
    "    clf = neighbors.KNeighborsClassifier(n_neighbors, algorithm='brute')\n",
    "    clf.fit(X_scaled, y)\n",
    "\n",
    "    Z = clf.predict(grid)\n",
    "\n",
    "    # Put the result into a color plot\n",
    "    Z = Z.reshape(xx.shape)\n",
    "    plt.contourf(xx, yy, Z, cmap=cmap_light)\n",
    "\n",
    "    #     # Plot also the training points\n",
    "    sns.scatterplot(x=X[:, 0], y=X[:, 1], hue=y,\n",
    "                    palette=cmap_bold, alpha=1.0, edgecolor=\"black\")\n",
    "    plt.xlabel('x')\n",
    "    plt.ylabel('y')\n",
    "    plt.title('Разделющие поверхности алгоритма {}-NN'.format(n_neighbors))\n",
    "    plt.grid()\n",
    "    plt.show()"
   ]
  },
  {
   "cell_type": "markdown",
   "metadata": {
    "id": "utYaG_pT5cAY"
   },
   "source": [
    "Нарисуем разделющие поверхности $1$-$NN$ и $10$-$NN$"
   ]
  },
  {
   "cell_type": "code",
   "execution_count": 75,
   "metadata": {
    "colab": {
     "base_uri": "https://localhost:8080/",
     "height": 683
    },
    "executionInfo": {
     "elapsed": 34137,
     "status": "ok",
     "timestamp": 1635899406328,
     "user": {
      "displayName": "Daniil Subbotin",
      "photoUrl": "https://lh3.googleusercontent.com/a-/AOh14GheF9BAoXxeH4n1DWWfIc7-z6MTUhCrESXm2qN2=s64",
      "userId": "15773641866656988655"
     },
     "user_tz": -180
    },
    "id": "4bfAKA4-5cAZ",
    "outputId": "68194afa-1478-4f5f-9eb1-b9426051e757"
   },
   "outputs": [
    {
     "data": {
      "image/png": "[encoded data removed]",
      "text/plain": [
       "<Figure size 360x360 with 1 Axes>"
      ]
     },
     "metadata": {
      "needs_background": "light"
     },
     "output_type": "display_data"
    },
    {
     "data": {
      "image/png": "[encoded data removed]",
      "text/plain": [
       "<Figure size 360x360 with 1 Axes>"
      ]
     },
     "metadata": {
      "needs_background": "light"
     },
     "output_type": "display_data"
    }
   ],
   "source": [
    "plot_knn_bound(X, y, n_neighbors=1)\n",
    "plot_knn_bound(X, y, n_neighbors=10)"
   ]
  },
  {
   "cell_type": "markdown",
   "metadata": {
    "id": "_2-UTsA25cAZ"
   },
   "source": [
    "**Задание 1.2** (кросс, 2 балла) Чем отличаются поверхности, полученные при числе соседей 1 и 10? Объясните, чем вызваны данные отличия"
   ]
  },
  {
   "cell_type": "markdown",
   "metadata": {
    "id": "swGALm295cAZ"
   },
   "source": [
    "Граница между классами в алгоритме 10NN более гладкая, чем в 1NN. При малых значениях k модель переобучается, при увеличении k модель упрощается, что позволяет \"сгладить\" сложные зависимости между объектами"
   ]
  },
  {
   "cell_type": "markdown",
   "metadata": {
    "id": "9z0i3NDI5cAZ"
   },
   "source": [
    "**Задание 1.3** (кросс, 3 балла) Объясните, почему наблюдается сильное отклоенние разделяющей поверхности от прямой $x=0$ при значениях $y < -10$ и $y > 10$"
   ]
  },
  {
   "cell_type": "markdown",
   "metadata": {
    "id": "N9RvOlpY5cAZ"
   },
   "source": [
    "Так происходит из-за разного масштаба признаков"
   ]
  },
  {
   "cell_type": "markdown",
   "metadata": {
    "id": "zsFUaTvQ5cAa"
   },
   "source": [
    "Данную проблему может решить нормализация признакового пространства. \n",
    "\n",
    "**Задание 1.4** (кросс, 1 балл) Начертите разделяющие поверхности для $KNN$, обученного на нормализованных признаках с помощью реализованных вами нормализаторов. Используйте функцию $plot\\_knn\\_bound$"
   ]
  },
  {
   "cell_type": "code",
   "execution_count": 76,
   "metadata": {
    "colab": {
     "base_uri": "https://localhost:8080/",
     "height": 683
    },
    "executionInfo": {
     "elapsed": 32881,
     "status": "ok",
     "timestamp": 1635899442681,
     "user": {
      "displayName": "Daniil Subbotin",
      "photoUrl": "https://lh3.googleusercontent.com/a-/AOh14GheF9BAoXxeH4n1DWWfIc7-z6MTUhCrESXm2qN2=s64",
      "userId": "15773641866656988655"
     },
     "user_tz": -180
    },
    "id": "PELo6Ho85cAa",
    "outputId": "ef3d033f-2b80-4c8d-f12a-50895f138239"
   },
   "outputs": [
    {
     "data": {
      "image/png": "[encoded data removed]",
      "text/plain": [
       "<Figure size 360x360 with 1 Axes>"
      ]
     },
     "metadata": {
      "needs_background": "light"
     },
     "output_type": "display_data"
    },
    {
     "data": {
      "image/png": "[encoded data removed]",
      "text/plain": [
       "<Figure size 360x360 with 1 Axes>"
      ]
     },
     "metadata": {
      "needs_background": "light"
     },
     "output_type": "display_data"
    }
   ],
   "source": [
    "# ваш код, нормализация с StandardScaler\n",
    "stdScaler = StandardScaler()\n",
    "stdScaler.fit(X)\n",
    "\n",
    "plot_knn_bound(X, y, scaler=stdScaler, n_neighbors=1)\n",
    "plot_knn_bound(X, y, scaler=stdScaler, n_neighbors=10)"
   ]
  },
  {
   "cell_type": "code",
   "execution_count": 77,
   "metadata": {
    "colab": {
     "base_uri": "https://localhost:8080/",
     "height": 683
    },
    "executionInfo": {
     "elapsed": 33097,
     "status": "ok",
     "timestamp": 1635899478640,
     "user": {
      "displayName": "Daniil Subbotin",
      "photoUrl": "https://lh3.googleusercontent.com/a-/AOh14GheF9BAoXxeH4n1DWWfIc7-z6MTUhCrESXm2qN2=s64",
      "userId": "15773641866656988655"
     },
     "user_tz": -180
    },
    "id": "pamzK8Jk5cAa",
    "outputId": "49faeccf-5ae7-4715-cc08-365d3f5b3d4d"
   },
   "outputs": [
    {
     "data": {
      "image/png": "[encoded data removed]",
      "text/plain": [
       "<Figure size 360x360 with 1 Axes>"
      ]
     },
     "metadata": {
      "needs_background": "light"
     },
     "output_type": "display_data"
    },
    {
     "data": {
      "image/png": "[encoded data removed]",
      "text/plain": [
       "<Figure size 360x360 with 1 Axes>"
      ]
     },
     "metadata": {
      "needs_background": "light"
     },
     "output_type": "display_data"
    }
   ],
   "source": [
    "# ваш код, нормализация с MinMaxScaler\n",
    "minMax = MinMaxScaler()\n",
    "minMax.fit(X)\n",
    "\n",
    "plot_knn_bound(X, y, scaler=minMax, n_neighbors=1)\n",
    "plot_knn_bound(X, y, scaler=minMax, n_neighbors=10)"
   ]
  },
  {
   "cell_type": "markdown",
   "metadata": {
    "id": "lwAMwAhH5cAa"
   },
   "source": [
    "**Задание 1.5** (кросс, 4 балла) Пусть дано произвольное число точек на плоскости. Представим, что каждая точка - это отдельный класс. Пусть на данной выборке был обучен $1$-$NN$ классификатор. Чем с геометрической точки зрения являются раделяющие поверхности этого классификатора? Приведите доказательство для произвольного числа точек\n",
    "\n",
    "В качестве примера ниже представлена визуализация для четырех точек"
   ]
  },
  {
   "cell_type": "code",
   "execution_count": 78,
   "metadata": {
    "colab": {
     "base_uri": "https://localhost:8080/",
     "height": 350
    },
    "executionInfo": {
     "elapsed": 1012,
     "status": "ok",
     "timestamp": 1635899502476,
     "user": {
      "displayName": "Daniil Subbotin",
      "photoUrl": "https://lh3.googleusercontent.com/a-/AOh14GheF9BAoXxeH4n1DWWfIc7-z6MTUhCrESXm2qN2=s64",
      "userId": "15773641866656988655"
     },
     "user_tz": -180
    },
    "id": "6B5lYU395cAa",
    "outputId": "c7d881d1-55b6-4bdc-beee-2b70202af3b2"
   },
   "outputs": [
    {
     "data": {
      "image/png": "[encoded data removed]",
      "text/plain": [
       "<Figure size 360x360 with 1 Axes>"
      ]
     },
     "metadata": {
      "needs_background": "light"
     },
     "output_type": "display_data"
    }
   ],
   "source": [
    "X = np.random.randn(4, 2)\n",
    "y = np.arange(4)\n",
    "plot_knn_bound(X, y, n_neighbors=1, xlim=(-3, 3), ylim=(-3, 3))"
   ]
  },
  {
   "cell_type": "markdown",
   "metadata": {
    "id": "FeldxmPl5cAa"
   },
   "source": [
    "ВАШ ОТВЕТ"
   ]
  },
  {
   "cell_type": "markdown",
   "metadata": {
    "id": "zmjIVHs55cAb"
   },
   "source": [
    "# Часть 2. Кросс-валидация на задаче регрессии"
   ]
  },
  {
   "cell_type": "markdown",
   "metadata": {
    "id": "wjHtb8V_5cAb"
   },
   "source": [
    "При решении прикладных задач, как правило, доступна лишь обучающая выборка. Для того чтобы иметь возможность оценить качество модели на тестовой выборке, прибегают к методу, называемому кросс-валидация. Пусть зафиксирован некоторый набор параметров модели. В $KNN$ под параметрами могут пониматься число соседей, метрика близости $\\rho$, стратегия выбора весов $w_i$. При кросс-валидации **обучающая** выборка делится на $n$ равных частей (folds). Затем обучаются $n$ моделей с заданными параметрами (у всех моделей параметры одинаковые и фиксированы) - $i$-ая модель обучается на всей обучающей выборке, кроме объектов, которые попали в $i$-ый фолд (out-of-fold). Затем измеряется качество $i$-ой модели на $i$-ом фолде. Так как он не участвовал в обучении этой модели, то полученная оценка качества модели будет являться корректной. Финальным значением метрики качества для модели с заданными параметрами является среднее полученных нами значений на $n$ фолдах.\n",
    "\n",
    "Принцип работы кросс-валидации схематично изображен на рисунке.\n",
    "\n",
    "<img src=\"cross-val.png\" style=\"width: 700px;\">"
   ]
  },
  {
   "cell_type": "markdown",
   "metadata": {
    "id": "y9873hSL5cAb"
   },
   "source": [
    "**Задание 2.1** (тест, 10 баллов) В модуле cross\\_val.py реализуйте функции\n",
    "\n",
    "* $kfold\\_split$, которая реализует генерацию индексов обучающей и валидационной выборок для кросс-валидации\n",
    "* $knn\\_cv\\_score$, которая реализует кросс-валидацию для $KNN-$модели"
   ]
  },
  {
   "cell_type": "markdown",
   "metadata": {
    "id": "dsnL-ihq5cAb"
   },
   "source": [
    "Далее будем решать задачу предсказания цены дома в Бостоне с помощью $KNN$-регрессии. В качестве метрики качества будем использовать $R^2-$score.\n",
    "\n",
    "$R^2(y\\_true, y\\_predict) = 1 - \\frac{\\sum_{i=1}^{n} (y\\_true_i - y\\_predict_i)^2}{\\sum_{i=1}^{n} (y\\_true_i - E(y\\_true))^2}$\n",
    "\n",
    "Наилучшее значение метрики равно $1.0$, метрика может принимать отрицательные значения"
   ]
  },
  {
   "cell_type": "code",
   "execution_count": 79,
   "metadata": {
    "executionInfo": {
     "elapsed": 521,
     "status": "ok",
     "timestamp": 1635899508314,
     "user": {
      "displayName": "Daniil Subbotin",
      "photoUrl": "https://lh3.googleusercontent.com/a-/AOh14GheF9BAoXxeH4n1DWWfIc7-z6MTUhCrESXm2qN2=s64",
      "userId": "15773641866656988655"
     },
     "user_tz": -180
    },
    "id": "CALEvrn65cAb"
   },
   "outputs": [],
   "source": [
    "from sklearn.datasets import load_boston\n",
    "from sklearn.model_selection import train_test_split"
   ]
  },
  {
   "cell_type": "code",
   "execution_count": 80,
   "metadata": {
    "executionInfo": {
     "elapsed": 5,
     "status": "ok",
     "timestamp": 1635899509647,
     "user": {
      "displayName": "Daniil Subbotin",
      "photoUrl": "https://lh3.googleusercontent.com/a-/AOh14GheF9BAoXxeH4n1DWWfIc7-z6MTUhCrESXm2qN2=s64",
      "userId": "15773641866656988655"
     },
     "user_tz": -180
    },
    "id": "l5jNX4Sr5cAc"
   },
   "outputs": [],
   "source": [
    "X, y = load_boston(return_X_y=True)"
   ]
  },
  {
   "cell_type": "markdown",
   "metadata": {
    "id": "dvg3l0bx5cAc"
   },
   "source": [
    "**Задание 2.2** (кросс, 1 балл) Разбейте выборку на обучающую (75%) и тестовую (25%) с помощью функции $train\\_test\\_split$. Используйте параметр **random_state=42!** Не забудьте перемешать данные перед разбиением (см. параметры функции). Запустите кросс-валидацию на 3 фолдах с помощью реализованных вами функций $kfold\\_split$, $knn\\_cv\\_score$. В качестве метрики используйте $r2\\_score$. Параметры для перебора описаны ниже"
   ]
  },
  {
   "cell_type": "code",
   "execution_count": 81,
   "metadata": {
    "executionInfo": {
     "elapsed": 331,
     "status": "ok",
     "timestamp": 1635899512404,
     "user": {
      "displayName": "Daniil Subbotin",
      "photoUrl": "https://lh3.googleusercontent.com/a-/AOh14GheF9BAoXxeH4n1DWWfIc7-z6MTUhCrESXm2qN2=s64",
      "userId": "15773641866656988655"
     },
     "user_tz": -180
    },
    "id": "KVfDTjA15cAc"
   },
   "outputs": [],
   "source": [
    "# ваш код\n",
    "X_train, X_test, y_train, y_test = train_test_split(X, y, test_size=0.25, random_state=42)"
   ]
  },
  {
   "cell_type": "code",
   "execution_count": 82,
   "metadata": {
    "executionInfo": {
     "elapsed": 735,
     "status": "ok",
     "timestamp": 1635899514927,
     "user": {
      "displayName": "Daniil Subbotin",
      "photoUrl": "https://lh3.googleusercontent.com/a-/AOh14GheF9BAoXxeH4n1DWWfIc7-z6MTUhCrESXm2qN2=s64",
      "userId": "15773641866656988655"
     },
     "user_tz": -180
    },
    "id": "q-BI4whM5cAc"
   },
   "outputs": [],
   "source": [
    "from sklearn.metrics import r2_score\n",
    "\n",
    "parameters = {\n",
    "    'n_neighbors': [1, 5, 10],\n",
    "    'metrics': ['euclidean', 'cosine'],\n",
    "    'weights': ['uniform', 'distance'],\n",
    "    'normalizers': [(None, 'None'), (MinMaxScaler(), 'MinMax'), (StandardScaler(), 'Standard')]\n",
    "}\n",
    "score_function = r2_score"
   ]
  },
  {
   "cell_type": "markdown",
   "metadata": {
    "id": "eVyuZfEH5cAc"
   },
   "source": [
    "Положите файл cross_val.py в одну директорию с jupyter ноутбуком"
   ]
  },
  {
   "cell_type": "code",
   "execution_count": 83,
   "metadata": {
    "executionInfo": {
     "elapsed": 826,
     "status": "ok",
     "timestamp": 1635899518468,
     "user": {
      "displayName": "Daniil Subbotin",
      "photoUrl": "https://lh3.googleusercontent.com/a-/AOh14GheF9BAoXxeH4n1DWWfIc7-z6MTUhCrESXm2qN2=s64",
      "userId": "15773641866656988655"
     },
     "user_tz": -180
    },
    "id": "GF8_a4CS5cAc"
   },
   "outputs": [],
   "source": [
    "from cross_val import kfold_split, knn_cv_score\n",
    "# ваш код\n",
    "score_dict = knn_cv_score(X_train, y_train, parameters, score_function, kfold_split(X_train.shape[0], 3), neighbors.KNeighborsRegressor)"
   ]
  },
  {
   "cell_type": "markdown",
   "metadata": {
    "id": "dhVXRPap5cAd"
   },
   "source": [
    "**Задание 2.3** (кросс, 3 балла) Какой наибольший $r2\\_score$ удалось достичь на валидации? Какие закономерности вы видите? Обучите модель с наилучшими параметрами на всей обучающей выборке, измерьте $r2\\_score$ на тестовой выборке."
   ]
  },
  {
   "cell_type": "markdown",
   "metadata": {
    "id": "O2rkIOLm5cAd"
   },
   "source": [
    "Выведите результаты кросс-валидации"
   ]
  },
  {
   "cell_type": "code",
   "execution_count": 84,
   "metadata": {
    "colab": {
     "base_uri": "https://localhost:8080/"
    },
    "executionInfo": {
     "elapsed": 440,
     "status": "ok",
     "timestamp": 1635899522339,
     "user": {
      "displayName": "Daniil Subbotin",
      "photoUrl": "https://lh3.googleusercontent.com/a-/AOh14GheF9BAoXxeH4n1DWWfIc7-z6MTUhCrESXm2qN2=s64",
      "userId": "15773641866656988655"
     },
     "user_tz": -180
    },
    "id": "sb0270o_5cAd",
    "outputId": "36d8107c-0196-481e-b306-59fa260dabb6"
   },
   "outputs": [
    {
     "name": "stdout",
     "output_type": "stream",
     "text": [
      "{('MinMax', 5, 'cosine', 'distance'): 0.7838913979622366}\n"
     ]
    },
    {
     "data": {
      "text/plain": [
       "{('MinMax', 1, 'cosine', 'distance'): 0.7105568598451331,\n",
       " ('MinMax', 1, 'cosine', 'uniform'): 0.7105568598451331,\n",
       " ('MinMax', 1, 'euclidean', 'distance'): 0.7205015731772787,\n",
       " ('MinMax', 1, 'euclidean', 'uniform'): 0.7205015731772787,\n",
       " ('MinMax', 5, 'cosine', 'distance'): 0.7838913979622366,\n",
       " ('MinMax', 5, 'cosine', 'uniform'): 0.6637075794591617,\n",
       " ('MinMax', 5, 'euclidean', 'distance'): 0.7309097149007378,\n",
       " ('MinMax', 5, 'euclidean', 'uniform'): 0.6484521154941817,\n",
       " ('MinMax', 10, 'cosine', 'distance'): 0.7593662843362762,\n",
       " ('MinMax', 10, 'cosine', 'uniform'): 0.6077295384442967,\n",
       " ('MinMax', 10, 'euclidean', 'distance'): 0.69067268715158,\n",
       " ('MinMax', 10, 'euclidean', 'uniform'): 0.6072198008324097,\n",
       " ('None', 1, 'cosine', 'distance'): 0.2706841763263995,\n",
       " ('None', 1, 'cosine', 'uniform'): 0.2706841763263995,\n",
       " ('None', 1, 'euclidean', 'distance'): 0.32798718613907635,\n",
       " ('None', 1, 'euclidean', 'uniform'): 0.32798718613907635,\n",
       " ('None', 5, 'cosine', 'distance'): 0.49971342962563237,\n",
       " ('None', 5, 'cosine', 'uniform'): 0.45628024689218727,\n",
       " ('None', 5, 'euclidean', 'distance'): 0.46183608369988716,\n",
       " ('None', 5, 'euclidean', 'uniform'): 0.40734188070776967,\n",
       " ('None', 10, 'cosine', 'distance'): 0.5061782278218225,\n",
       " ('None', 10, 'cosine', 'uniform'): 0.39658093087459156,\n",
       " ('None', 10, 'euclidean', 'distance'): 0.4545377426845699,\n",
       " ('None', 10, 'euclidean', 'uniform'): 0.36705738034406826,\n",
       " ('Standard', 1, 'cosine', 'distance'): 0.7175103068303715,\n",
       " ('Standard', 1, 'cosine', 'uniform'): 0.7175103068303715,\n",
       " ('Standard', 1, 'euclidean', 'distance'): 0.7277979012952704,\n",
       " ('Standard', 1, 'euclidean', 'uniform'): 0.7277979012952704,\n",
       " ('Standard', 5, 'cosine', 'distance'): 0.7734933476304353,\n",
       " ('Standard', 5, 'cosine', 'uniform'): 0.6925407172066219,\n",
       " ('Standard', 5, 'euclidean', 'distance'): 0.7608611402652798,\n",
       " ('Standard', 5, 'euclidean', 'uniform'): 0.6990468576824548,\n",
       " ('Standard', 10, 'cosine', 'distance'): 0.7801368630961365,\n",
       " ('Standard', 10, 'cosine', 'uniform'): 0.70965965186682,\n",
       " ('Standard', 10, 'euclidean', 'distance'): 0.7466700102355974,\n",
       " ('Standard', 10, 'euclidean', 'uniform'): 0.702222269519848}"
      ]
     },
     "execution_count": 84,
     "metadata": {},
     "output_type": "execute_result"
    }
   ],
   "source": [
    "#ваш код\n",
    "max_val = max(score_dict.values())\n",
    "print({k:v for k, v in score_dict.items() if v == max_val})\n",
    "\n",
    "score_dict"
   ]
  },
  {
   "cell_type": "markdown",
   "metadata": {
    "id": "D955T9655cAd"
   },
   "source": [
    "ВАШ ОТВЕТ"
   ]
  },
  {
   "cell_type": "markdown",
   "metadata": {
    "id": "cuRRcFgL5cAd"
   },
   "source": [
    "Обучите модель с лучшими по валидации параметрами на обучающей выборке"
   ]
  },
  {
   "cell_type": "code",
   "execution_count": 85,
   "metadata": {
    "colab": {
     "base_uri": "https://localhost:8080/"
    },
    "executionInfo": {
     "elapsed": 313,
     "status": "ok",
     "timestamp": 1635899553872,
     "user": {
      "displayName": "Daniil Subbotin",
      "photoUrl": "https://lh3.googleusercontent.com/a-/AOh14GheF9BAoXxeH4n1DWWfIc7-z6MTUhCrESXm2qN2=s64",
      "userId": "15773641866656988655"
     },
     "user_tz": -180
    },
    "id": "7-4Z_B-P5cAd",
    "outputId": "83ccaa17-72a6-4fb7-b109-5ce620aac93b"
   },
   "outputs": [
    {
     "data": {
      "text/plain": [
       "0.7444270853336878"
      ]
     },
     "execution_count": 85,
     "metadata": {},
     "output_type": "execute_result"
    }
   ],
   "source": [
    "# ваш код\n",
    "minMax = MinMaxScaler()\n",
    "minMax.fit(X_train)\n",
    "X_scaled = minMax.transform(X_train)\n",
    "X_scaled_test = minMax.transform(X_test)\n",
    "\n",
    "clf = neighbors.KNeighborsRegressor(n_neighbors = 5, metric ='cosine', weights='distance')\n",
    "clf.fit(X_scaled, y_train)\n",
    "r2_score(y_test, clf.predict(X_scaled_test))"
   ]
  },
  {
   "cell_type": "markdown",
   "metadata": {
    "id": "pea6ykeG5cAe"
   },
   "source": [
    "# Часть 3. Работа с текстовыми данными"
   ]
  },
  {
   "cell_type": "markdown",
   "metadata": {
    "id": "kCf5FcP95cAe"
   },
   "source": [
    "Далее будем решать задачу классификации новостного текста к одному из 20 классов, каждый класс соответствует определенной новостной тематике. В качестве метрики качества будем использовать $accuracy\\_score$. Accuracy - это доля верно классифицированных объектов, среди всех объектов выборки."
   ]
  },
  {
   "cell_type": "code",
   "execution_count": 19,
   "metadata": {
    "executionInfo": {
     "elapsed": 21,
     "status": "ok",
     "timestamp": 1635895518272,
     "user": {
      "displayName": "Daniil Subbotin",
      "photoUrl": "https://lh3.googleusercontent.com/a-/AOh14GheF9BAoXxeH4n1DWWfIc7-z6MTUhCrESXm2qN2=s64",
      "userId": "15773641866656988655"
     },
     "user_tz": -180
    },
    "id": "DDOvyzoe5cAe"
   },
   "outputs": [],
   "source": [
    "from sklearn.datasets import fetch_20newsgroups\n",
    "from sklearn.feature_extraction.text import CountVectorizer, TfidfVectorizer"
   ]
  },
  {
   "cell_type": "code",
   "execution_count": 66,
   "metadata": {
    "executionInfo": {
     "elapsed": 6054,
     "status": "ok",
     "timestamp": 1635898915640,
     "user": {
      "displayName": "Daniil Subbotin",
      "photoUrl": "https://lh3.googleusercontent.com/a-/AOh14GheF9BAoXxeH4n1DWWfIc7-z6MTUhCrESXm2qN2=s64",
      "userId": "15773641866656988655"
     },
     "user_tz": -180
    },
    "id": "Hef_ypPj5cAf"
   },
   "outputs": [],
   "source": [
    "X_train, y_train = fetch_20newsgroups(subset='train', return_X_y=True, random_state=42)\n",
    "X_test, y_test = fetch_20newsgroups(subset='test', return_X_y=True, random_state=42)\n",
    "X_train = np.array(X_train)\n",
    "X_test = np.array(X_test)\n",
    "y_train = np.array(y_train)\n",
    "y_test = np.array(y_test) "
   ]
  },
  {
   "cell_type": "code",
   "execution_count": 21,
   "metadata": {
    "colab": {
     "base_uri": "https://localhost:8080/"
    },
    "executionInfo": {
     "elapsed": 22,
     "status": "ok",
     "timestamp": 1635895526851,
     "user": {
      "displayName": "Daniil Subbotin",
      "photoUrl": "https://lh3.googleusercontent.com/a-/AOh14GheF9BAoXxeH4n1DWWfIc7-z6MTUhCrESXm2qN2=s64",
      "userId": "15773641866656988655"
     },
     "user_tz": -180
    },
    "id": "ZlZlzWJ35cAf",
    "outputId": "e8067726-16fc-4ad2-ee98-0671ea7b6eac"
   },
   "outputs": [
    {
     "name": "stdout",
     "output_type": "stream",
     "text": [
      "From: lerxst@wam.umd.edu (where's my thing)\n",
      "Subject: WHAT car is this!?\n",
      "Nntp-Posting-Host: rac3.wam.umd.edu\n",
      "Organization: University of Maryland, College Park\n",
      "Lines: 15\n",
      "\n",
      " I was wondering if anyone out there could enlighten me on this car I saw\n",
      "the other day. It was a 2-door sports car, looked to be from the late 60s/\n",
      "early 70s. It was called a Bricklin. The doors were really small. In addition,\n",
      "the front bumper was separate from the rest of the body. This is \n",
      "all I know. If anyone can tellme a model name, engine specs, years\n",
      "of production, where this car is made, history, or whatever info you\n",
      "have on this funky looking car, please e-mail.\n",
      "\n",
      "Thanks,\n",
      "- IL\n",
      "   ---- brought to you by your neighborhood Lerxst ----\n",
      "\n",
      "\n",
      "\n",
      "\n",
      "\n"
     ]
    }
   ],
   "source": [
    "print(X_train[0])"
   ]
  },
  {
   "cell_type": "markdown",
   "metadata": {
    "id": "faBtiD_r5cAf"
   },
   "source": [
    "Как мы видим, объектами обучающей выборки являются тексты. Сырые текстовые данные не могут служить обучающими примерами для алгоритма $KNN$. Перед использованием $KNN$ текстовые данные переменной длины необходимо отобразить в метрическое пространство фиксированной размерности.\n",
    "\n",
    "Работа с текстовыми данными проходит в несколько этапов.\n",
    "\n",
    "* **Токенизация.** Текстовая строка делится на токены. Как правило, в качестве токенов выступают отдельные слова и знаки препинания.\n",
    "\n",
    "* **Нормализация.** Приведение к нижнему регистру, удаление стоп-слов, удаление пунктуации, удаление редких и частотных слов и т.д.\n",
    "\n",
    "* **Векторизация.** Фиксируется словарь токенов $V$ по **обучающей** выборке. Текст представлется в виде вектора длиной $|V|$, где каждый признак есть функция от частоты встречаемости токена в тексте и в обучающей выборке.\n",
    "\n",
    "В данном задании будет использовано два вида векторизации. Первый, $CountVectorizer$, сопоставляет каждому токену частоту встречаемости этого токена в тексте документа. Второй, $TfidfVectorizer$, сопоставляет каждому токену частоту встречаемости этого токена в тексте документа умноженную на величину обратно пропорциональную частоте встречаемости токена во всех документах **обучающей** выборки. Подробне про $tf-idf$ можно прочитать [здесь](https://ru.wikipedia.org/wiki/TF-IDF)."
   ]
  },
  {
   "cell_type": "markdown",
   "metadata": {
    "id": "XDEjnqg35cAf"
   },
   "source": [
    "В sklearn все векторизаторы автоматически токенизируют текст и приводят его к нижнему регистру. Параметры $max\\_df$ и $min\\_df$ позволяют убрать из словаря наиболее частые и наиболее редкие токены. Параметр $stop\\_words$ позволяет убрать из словаря стоп-слова (малоинформативные слова для данного языка, например, союзы)."
   ]
  },
  {
   "cell_type": "code",
   "execution_count": 22,
   "metadata": {
    "executionInfo": {
     "elapsed": 4,
     "status": "ok",
     "timestamp": 1635895526851,
     "user": {
      "displayName": "Daniil Subbotin",
      "photoUrl": "https://lh3.googleusercontent.com/a-/AOh14GheF9BAoXxeH4n1DWWfIc7-z6MTUhCrESXm2qN2=s64",
      "userId": "15773641866656988655"
     },
     "user_tz": -180
    },
    "id": "TqhKS4HO5cAf"
   },
   "outputs": [],
   "source": [
    "count_vec = CountVectorizer(max_df=0.8, min_df=10, stop_words='english')\n",
    "tf_idf = TfidfVectorizer(max_df=0.8, min_df=10, stop_words='english')"
   ]
  },
  {
   "cell_type": "markdown",
   "metadata": {
    "id": "6Z25gcUO5cAf"
   },
   "source": [
    "**Задание 3.1** (кросс, 2 балла) Найдите оптимальные параметры обучения модели. Осуществлять перебор параметров следует по заданной ниже сетке. Используйте реализованные вами функции $kfold\\_split$, $knn\\_cv\\_score$. В качестве метрики используйте $accuracy\\_score$."
   ]
  },
  {
   "cell_type": "code",
   "execution_count": 23,
   "metadata": {
    "executionInfo": {
     "elapsed": 5,
     "status": "ok",
     "timestamp": 1635895526852,
     "user": {
      "displayName": "Daniil Subbotin",
      "photoUrl": "https://lh3.googleusercontent.com/a-/AOh14GheF9BAoXxeH4n1DWWfIc7-z6MTUhCrESXm2qN2=s64",
      "userId": "15773641866656988655"
     },
     "user_tz": -180
    },
    "id": "Xg1sl5Gg5cAf"
   },
   "outputs": [],
   "source": [
    "from sklearn.metrics import accuracy_score\n",
    "\n",
    "parameters = {\n",
    "    'n_neighbors': [i for i in range(1, 11)],\n",
    "    'metrics': ['euclidean', 'cosine'],\n",
    "    'weights': ['uniform', 'distance'],\n",
    "    'normalizers': [(count_vec, 'CountVectorizer'), (tf_idf, 'TfidfVectorizer')]\n",
    "}"
   ]
  },
  {
   "cell_type": "code",
   "execution_count": 24,
   "metadata": {
    "colab": {
     "base_uri": "https://localhost:8080/"
    },
    "executionInfo": {
     "elapsed": 497829,
     "status": "ok",
     "timestamp": 1635896024676,
     "user": {
      "displayName": "Daniil Subbotin",
      "photoUrl": "https://lh3.googleusercontent.com/a-/AOh14GheF9BAoXxeH4n1DWWfIc7-z6MTUhCrESXm2qN2=s64",
      "userId": "15773641866656988655"
     },
     "user_tz": -180
    },
    "id": "Avjw_Vw55cAg",
    "outputId": "65f79c82-1828-4573-fa40-3e3e070398c2"
   },
   "outputs": [
    {
     "data": {
      "text/plain": [
       "('TfidfVectorizer', 4, 'cosine', 'distance')"
      ]
     },
     "execution_count": 24,
     "metadata": {},
     "output_type": "execute_result"
    }
   ],
   "source": [
    "#ваш код\n",
    "score_dict = knn_cv_score(X_train, y_train, parameters, accuracy_score, kfold_split(X_train.shape[0], 3), neighbors.KNeighborsClassifier)\n",
    "max(score_dict, key=score_dict.get)"
   ]
  },
  {
   "cell_type": "markdown",
   "metadata": {
    "id": "KubIg8UU5cAg"
   },
   "source": [
    "**Задание 3.2** (кросс, 2 балла) Какой метод предобработки данных в среднем дает наилучший результат? Почему?"
   ]
  },
  {
   "cell_type": "code",
   "execution_count": 49,
   "metadata": {
    "colab": {
     "base_uri": "https://localhost:8080/"
    },
    "executionInfo": {
     "elapsed": 412,
     "status": "ok",
     "timestamp": 1635897184119,
     "user": {
      "displayName": "Daniil Subbotin",
      "photoUrl": "https://lh3.googleusercontent.com/a-/AOh14GheF9BAoXxeH4n1DWWfIc7-z6MTUhCrESXm2qN2=s64",
      "userId": "15773641866656988655"
     },
     "user_tz": -180
    },
    "id": "dUtm_0zw5cAg",
    "outputId": "3b1bf8b6-079c-49e4-c9f4-d81eb70cb670"
   },
   "outputs": [
    {
     "name": "stdout",
     "output_type": "stream",
     "text": [
      "Score CountVectorizer:  0.6222374409914588 \n",
      "Score TfidfVectorizer:  0.7605066798545091\n"
     ]
    }
   ],
   "source": [
    "# ваш код\n",
    "score_count, score_tdf = 0, 0\n",
    "for key in score_dict:\n",
    "    if(key[0] == 'CountVectorizer'):\n",
    "        score_count += score_dict[key]\n",
    "    else:\n",
    "        score_tdf += score_dict[key]\n",
    "print(\"Score CountVectorizer: \", score_count / (len(score_dict)/2), \"\\nScore TfidfVectorizer: \", score_tdf / (len(score_dict)/2))"
   ]
  },
  {
   "cell_type": "markdown",
   "metadata": {
    "id": "BvTQpPGk5cAg"
   },
   "source": [
    "TfidfVectorizer дает лучший результат, посколько в этом методе приоритет отдается более редким и уникальным словам (они имеют бОльший вес), в отличие от CountVectorizer, который дает каждому токену вес в зависимости от его частоты (в таком случае наиболее часто употребительные слова и слова, которые можно отнести к любой тематике, будут доминировать на словами, специфичными только для заданной тематики) "
   ]
  },
  {
   "cell_type": "markdown",
   "metadata": {
    "id": "2LWfIITs5cAg"
   },
   "source": [
    "**Задание 3.3** (кросс, 2 балла) Какая метрика близости позволяет в среднем достичь наилучшее качество? Почему?"
   ]
  },
  {
   "cell_type": "code",
   "execution_count": 48,
   "metadata": {
    "colab": {
     "base_uri": "https://localhost:8080/"
    },
    "executionInfo": {
     "elapsed": 414,
     "status": "ok",
     "timestamp": 1635897172140,
     "user": {
      "displayName": "Daniil Subbotin",
      "photoUrl": "https://lh3.googleusercontent.com/a-/AOh14GheF9BAoXxeH4n1DWWfIc7-z6MTUhCrESXm2qN2=s64",
      "userId": "15773641866656988655"
     },
     "user_tz": -180
    },
    "id": "wfKd7G-R5cAg",
    "outputId": "63644e66-8522-4e52-b490-b19b67130a72"
   },
   "outputs": [
    {
     "name": "stdout",
     "output_type": "stream",
     "text": [
      "Score euclidean:  0.631926630335187 \n",
      "Score cosine:  0.7508174905107807\n"
     ]
    }
   ],
   "source": [
    "# ваш код\n",
    "score_count, score_tdf = 0, 0\n",
    "\n",
    "for key in score_dict:\n",
    "    if(key[2] == 'euclidean'):\n",
    "        score_count += score_dict[key]\n",
    "    else:\n",
    "        score_tdf += score_dict[key]\n",
    "\n",
    "print(\"Score euclidean: \", score_count / (len(score_dict)/2), \"\\nScore cosine: \", score_tdf / (len(score_dict)/2))"
   ]
  },
  {
   "cell_type": "markdown",
   "metadata": {
    "id": "Eesv7l995cAg"
   },
   "source": [
    "ВАШ ОТВЕТ"
   ]
  },
  {
   "cell_type": "markdown",
   "metadata": {
    "id": "nUv60Ibo5cAh"
   },
   "source": [
    "**Задание 3.4** (кросс, 2 балла) Начертите график зависимости метрики качества от числа соседей. Метрику следует усреднить по всем параматрам, кроме числа соседей. Сделайте выводы о наблюдаемых зависимостях (возможно будет полезным ознакомиться с названиями классов)"
   ]
  },
  {
   "cell_type": "code",
   "execution_count": 47,
   "metadata": {
    "colab": {
     "base_uri": "https://localhost:8080/",
     "height": 334
    },
    "executionInfo": {
     "elapsed": 350,
     "status": "ok",
     "timestamp": 1635897145727,
     "user": {
      "displayName": "Daniil Subbotin",
      "photoUrl": "https://lh3.googleusercontent.com/a-/AOh14GheF9BAoXxeH4n1DWWfIc7-z6MTUhCrESXm2qN2=s64",
      "userId": "15773641866656988655"
     },
     "user_tz": -180
    },
    "id": "UYL2iCTo5cAh",
    "outputId": "673d7d59-0b41-40d2-c773-5fdeb581f69e"
   },
   "outputs": [
    {
     "data": {
      "image/png": "[encoded data removed]",
      "text/plain": [
       "<Figure size 360x360 with 1 Axes>"
      ]
     },
     "metadata": {
      "needs_background": "light"
     },
     "output_type": "display_data"
    }
   ],
   "source": [
    "# ваш код\n",
    "score = np.zeros(10)\n",
    "for key in score_dict:\n",
    "    score[key[1] - 1] += score_dict.get(key)\n",
    "plt.plot([i for i in range(1, 11)], score / (len(score_dict)/10), marker='.')\n",
    "plt.xticks([i for i in range(1, 11)])\n",
    "plt.ylabel('Accuracy')\n",
    "plt.xlabel('Neighbors')\n",
    "plt.grid()\n",
    "plt.show()"
   ]
  },
  {
   "cell_type": "markdown",
   "metadata": {
    "id": "J5v3hm3G5cAh"
   },
   "source": [
    "ВАШ ОТВЕТ"
   ]
  },
  {
   "cell_type": "markdown",
   "metadata": {
    "id": "qqGbJs725cAh"
   },
   "source": [
    "**Задание 3.5** (кросс, 3 балла) Оцените точность вашей лучшей модели на тестовой части датасета. Отличается ли оно от качества, полученного на кросс-валидации? Почему?"
   ]
  },
  {
   "cell_type": "code",
   "execution_count": 67,
   "metadata": {
    "colab": {
     "base_uri": "https://localhost:8080/"
    },
    "executionInfo": {
     "elapsed": 25246,
     "status": "ok",
     "timestamp": 1635898947335,
     "user": {
      "displayName": "Daniil Subbotin",
      "photoUrl": "https://lh3.googleusercontent.com/a-/AOh14GheF9BAoXxeH4n1DWWfIc7-z6MTUhCrESXm2qN2=s64",
      "userId": "15773641866656988655"
     },
     "user_tz": -180
    },
    "id": "NUOeeqcr5cAh",
    "outputId": "76401ddf-388e-423c-e0ea-1617bc9180f0"
   },
   "outputs": [
    {
     "name": "stdout",
     "output_type": "stream",
     "text": [
      "CrossValidation:  0.7822165473911666 \n",
      "Tests:  0.6688794476898566\n"
     ]
    }
   ],
   "source": [
    "#ваш код\n",
    "clf = neighbors.KNeighborsClassifier(n_neighbors=4, \n",
    "                                     weights='distance',\n",
    "                                     metric='cosine')\n",
    "tf_idf.fit(X_train)\n",
    "X_train = tf_idf.transform(X_train)\n",
    "X_test = tf_idf.transform(X_test)\n",
    "clf.fit(X_train, y_train)\n",
    "print(\"CrossValidation: \", \n",
    "      score_dict[('TfidfVectorizer', 4, 'cosine', 'distance')], \n",
    "\n",
    "      \"\\nTests: \", \n",
    "      accuracy_score(y_test, clf.predict(X_test)))"
   ]
  },
  {
   "cell_type": "markdown",
   "metadata": {
    "id": "5YyLaX0r5cAh"
   },
   "source": [
    "ВАШ ОТВЕТ"
   ]
  },
  {
   "cell_type": "markdown",
   "metadata": {
    "id": "w7ohc4VQ5cAh"
   },
   "source": [
    "**(!)** А теперь перезапустите ноутбук: Kernel -> Restart & Run All"
   ]
  }
 ],
 "metadata": {
  "colab": {
   "collapsed_sections": [],
   "name": "KNN.ipynb",
   "provenance": []
  },
  "kernelspec": {
   "display_name": "Python 3 (ipykernel)",
   "language": "python",
   "name": "python3"
  },
  "language_info": {
   "codemirror_mode": {
    "name": "ipython",
    "version": 3
   },
   "file_extension": ".py",
   "mimetype": "text/x-python",
   "name": "python",
   "nbconvert_exporter": "python",
   "pygments_lexer": "ipython3",
   "version": "3.8.10"
  }
 },
 "nbformat": 4,
 "nbformat_minor": 4
}
