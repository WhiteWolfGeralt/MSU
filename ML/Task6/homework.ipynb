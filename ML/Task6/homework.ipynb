{
  "cells":[
    {
      "cell_type":"markdown",
      "source":[
        "# Курс по машинному обучению,   ВМК МГУ\n",
        "## Деревья решений"
      ],
      "attachments":{
        
      },
      "metadata":{
        "jupyter":{
          "source_hidden":false,
          "outputs_hidden":false
        },
        "datalore":{
          "type":"MD",
          "sheet_delimiter":false
        }
      }
    },
    {
      "cell_type":"markdown",
      "source":[
        "### Важно! О формате сдачи\n",
        "\n",
        "* **Практически все выделенные задания из ноутбука оцениваются по системе <font color='red'>кросс-рецензирования<\/font>. Задания, в котором надо реализовать свой код и послать в систему, выделены здесь и в pdf отдельно**\n",
        "* **Также в этом ноутбук есть задание на ML-решение**\n",
        "* **При решении ноутбука используйте данный шаблон. Не нужно удалять текстовые ячейки c разметкой частей ноутбука и формулировками заданий. Добавлять свои ячейки, при необходимости, конечно можно**\n",
        "* **Везде, где в формулровке задания есть какой-либо вопрос (или просьба вывода), необходимо прописать ответ в ячейку (код или markdown).**\n",
        "* **Наличие кода решения обязательно. Письменные ответы на вопросы без сопутствующего кода оцениваются в 0 баллов.**"
      ],
      "attachments":{
        
      },
      "metadata":{
        "jupyter":{
          "source_hidden":false,
          "outputs_hidden":false
        },
        "datalore":{
          "type":"MD",
          "sheet_delimiter":false
        }
      }
    },
    {
      "cell_type":"markdown",
      "source":[
        "**А также..**\n",
        "\n",
        "Если в ячейке написана фраза \"Вывод\"\/\"Ответ на вопрос\" итд, то ожидается ответ в виде текста (можете добавить ячейки с кодом, если считаете это необходимым, но это необязательно). Если в ячейке написано \"Your code here\", то ожидается ответ в виде кода (можете добавить ячейки с кодом, если считаете это необходимым, но это необязательно). Если есть и ячейка с фразой \"Вывод\", и ячейка с фразой \"Your code here\", то в ответе ожидается и код, и текст)"
      ],
      "attachments":{
        
      },
      "metadata":{
        "jupyter":{
          "source_hidden":false,
          "outputs_hidden":false
        },
        "datalore":{
          "type":"MD",
          "sheet_delimiter":false
        }
      }
    },
    {
      "cell_type":"markdown",
      "source":[
        "__В этом задании вы..:__\n",
        "\n",
        "- Посмотрите глазами, как же работают деревья решений\n",
        "- Релизуете различные меры качества разбиения в вершине \n",
        "- Посмотрите на разные методы ансамблирования деревьев решений\n",
        "- Посмотрите на поведение качества ансамбля деревьев в зависимости от числа деревьев\n",
        "- Изучите, как получить из обученного дерева важность признаков\n",
        "- Порешаете интересную физическую задачку :)"
      ],
      "attachments":{
        
      },
      "metadata":{
        "jupyter":{
          "source_hidden":false,
          "outputs_hidden":false
        },
        "datalore":{
          "type":"MD",
          "sheet_delimiter":false
        }
      }
    },
    {
      "cell_type":"markdown",
      "source":[
        "-------------------------------"
      ],
      "attachments":{
        
      },
      "metadata":{
        "jupyter":{
          "source_hidden":false,
          "outputs_hidden":false
        },
        "datalore":{
          "type":"MD",
          "sheet_delimiter":false
        }
      }
    },
    {
      "cell_type":"markdown",
      "source":[
        "Привет, ребятушки!\n",
        "\n",
        "Сегодня мы с вами посмотрим на такую вещь, как деревья решений. Мы попытаемся понять принцип их работы, пощупать, исследовать влияние параметров и, самое главное, узнаем, какое свойство случайных лесов оказало сильное влияние на машинное обучение.\n",
        "\n",
        "Хочу обратить внимание, что в этом задании мы будем работать с регрессорами, однако все сделанные нами выводы верны также и для задач классификации.\n",
        "\n",
        "**Внимание! При решении задач разрешается использовать ``n_jobs`` для ускорения обучения.**\n",
        "\n",
        "**Внимание! Во всех заданиях в качестве целевой метрики используется MAE (средняя абсолютная ошибка).** Значение MAE вычисляется как\n",
        "\n",
        "$$\n",
        "  MAE = \\sum_{i = 1}^N\\dfrac{|a(x_i) - y_i|}{N},\n",
        "$$\n",
        "\n",
        "где $N$ - число объектов в тестовой выборке, $x_i$ - вектор признаков i-го объекта, $a(x_i)$ - предсказание на i-ом объекте, $y_i$ - значение целевого признака на i-м объекте.\n",
        "\n",
        "Для вычисления MAE можно использовать встроенную функцию sklearn.metrics.mean_absolute_error.\n",
        "\n",
        "Импортируем необходимые библиотеки:"
      ],
      "attachments":{
        
      },
      "metadata":{
        "jupyter":{
          "source_hidden":false,
          "outputs_hidden":false
        },
        "datalore":{
          "type":"MD",
          "sheet_delimiter":false
        }
      }
    },
    {
      "cell_type":"code",
      "source":[
        "from sklearn.ensemble import RandomForestRegressor, ExtraTreesRegressor\n",
        "from sklearn.tree import DecisionTreeRegressor, plot_tree\n",
        "from sklearn.model_selection import train_test_split\n",
        "from sklearn.metrics import mean_absolute_error\n",
        "from sklearn.datasets import load_boston\n",
        "from sklearn.pipeline import Pipeline\n",
        "from sklearn.svm import LinearSVR\n",
        "\n",
        "import matplotlib.pyplot as plt\n",
        "\n",
        "#####\n",
        "# если вы не различаете предлагаемые цвета, то Вы можете раскомментить строку ниже \n",
        "# для применения специальной цветовой палитры или аналогичных\n",
        "# plt.style.use('tableau-colorblind10')\n",
        "#####\n",
        "\n",
        "import numpy as np\n",
        "\n",
        "import time\n",
        "import os\n",
        "\n",
        "import warnings\n",
        "warnings.filterwarnings(\"ignore\", category=FutureWarning)"
      ],
      "execution_count":1,
      "outputs":[
        
      ],
      "metadata":{
        "jupyter":{
          "source_hidden":false,
          "outputs_hidden":false
        },
        "datalore":{
          "type":"CODE",
          "sheet_delimiter":false
        }
      }
    },
    {
      "cell_type":"markdown",
      "source":[
        "# Задание для проверяющей системы\n",
        "## Задание 0 (unit-тесты, 5 баллов)\n",
        "\n",
        "Как Вы знаете из лекций, решающие деревья на каждом шаге разбивают множество объектов на два подмножества, выбирая такой критерий, по которому разбиение наиболее оптимальное. В качестве меры качества таких разбиений могут выступать три меры: Gini, Entropy и Classification Error. Вам нужно реализовать все три меры качества и загрузить их реализацию в тестирующую систему cv-gml.ru, в задание `Деревья решений (unit-tests)`.\n",
        "\n",
        "Подробнее об этом задании вы можете прочитать в соответствующем .pdf файле."
      ],
      "attachments":{
        
      },
      "metadata":{
        "jupyter":{
          "source_hidden":false,
          "outputs_hidden":false
        },
        "datalore":{
          "type":"MD",
          "sheet_delimiter":false
        }
      }
    },
    {
      "cell_type":"markdown",
      "source":[
        "## Как же работают деревья решений\n",
        "\n",
        "На лекции вам рассказывали, что деревья решений несколько раз дробят выборки, используя какие-то значения\n",
        "признаков, и таким образом строят цепочки условий для принятия решения. Давайте убедимся в этом лично.\n",
        "\n",
        "Загрузим датасет со стоимостью недвижимости в Бостоне, который нам понадобится для первых заданий:"
      ],
      "attachments":{
        
      },
      "metadata":{
        "jupyter":{
          "source_hidden":false,
          "outputs_hidden":false
        },
        "datalore":{
          "type":"MD",
          "sheet_delimiter":false
        }
      }
    },
    {
      "cell_type":"code",
      "source":[
        "def get_boston_dataset():\n",
        "    \"\"\"Return the splits of the Boston dataset for training and testing\"\"\"\n",
        "    X, y = load_boston(return_X_y=True)\n",
        "    return train_test_split(X, y, random_state=42)\n",
        "\n",
        "X_train, X_test, y_train, y_test = get_boston_dataset()"
      ],
      "execution_count":2,
      "outputs":[
        
      ],
      "metadata":{
        "jupyter":{
          "source_hidden":false,
          "outputs_hidden":false
        },
        "datalore":{
          "type":"CODE",
          "sheet_delimiter":false
        }
      }
    },
    {
      "cell_type":"markdown",
      "source":[
        "### Задание 1 (кросс-проверка, 2 балла)\n",
        "**Данные**: датасет со стоимостью недвижимости в Бостоне  \n",
        "**Цели**: В данном задании следует выполнить следующие пункты:\n",
        "\n",
        "1. Обучить ``DecisionTreeRegressor`` на обучающей выборке, установив ``random_state=0``. Ограничить максимальную глубину дерева до 3, чтобы получившаяся визуализация не была слишком большой.\n",
        "1. При помощи функции sklearn.tree.plot_tree визуализировать получившееся дерево. Можете передать load_boston().feature_names для улучшения визуализации. Для того чтобы визуализация выглядела лучше, можете воспользоваться аргументом fontsize, а также установить  ``plt.figure(figsize=(X,Y))``.\n",
        "1. Взять любой объект из тестовой выборки. Предсказать его цену при помощи функции .predict обученного регрессора, а затем, воспользовавшись полученной визуализацией, опишите правила, по которым дерево сделало свой вывод. Опишите словами эти решения ниже."
      ],
      "attachments":{
        
      },
      "metadata":{
        "jupyter":{
          "source_hidden":false,
          "outputs_hidden":false
        },
        "datalore":{
          "type":"MD",
          "sheet_delimiter":false
        }
      }
    },
    {
      "cell_type":"code",
      "source":[
        "decision_tree_regressor = DecisionTreeRegressor(max_depth=3, random_state=0)\n",
        "\n",
        "#Your code here:\n",
        "decision_tree_regressor.fit(X_train, y_train)\n",
        "fig = plt.figure(figsize=(30,20))\n",
        "plot_tree(decision_tree_regressor, feature_names=load_boston().feature_names, fontsize=20)\n",
        "plt.show()"
      ],
      "execution_count":3,
      "outputs":[
        {
          "data":{
            "image\/png":"[encoded data removed]"
          },
          "metadata":{
            "image\/png":{
              
            }
          },
          "output_type":"display_data"
        }
      ],
      "metadata":{
        "jupyter":{
          "source_hidden":false,
          "outputs_hidden":false
        },
        "datalore":{
          "type":"CODE",
          "sheet_delimiter":false
        }
      }
    },
    {
      "cell_type":"code",
      "source":[
        "names = list(load_boston().feature_names) + ['result']\n",
        "single_object = list(X_test[0]) + [y_test[0]]\n",
        "print(np.array(list(zip(names, single_object))))\n",
        "\n",
        "pred = decision_tree_regressor.predict(X_test)\n",
        "print(pred[0])"
      ],
      "execution_count":4,
      "outputs":[
        {
          "name":"stdout",
          "text":[
            "[['CRIM' '0.09178']\n",
            " ['ZN' '0.0']\n",
            " ['INDUS' '4.05']\n",
            " ['CHAS' '0.0']\n",
            " ['NOX' '0.51']\n",
            " ['RM' '6.416']\n",
            " ['AGE' '84.1']\n",
            " ['DIS' '2.6463']\n",
            " ['RAD' '5.0']\n",
            " ['TAX' '296.0']\n",
            " ['PTRATIO' '16.6']\n",
            " ['B' '395.5']\n",
            " ['LSTAT' '9.04']\n",
            " ['result' '23.6']]\n",
            "22.932786885245907\n"
          ],
          "output_type":"stream"
        }
      ],
      "metadata":{
        "jupyter":{
          "source_hidden":false,
          "outputs_hidden":false
        },
        "datalore":{
          "type":"CODE",
          "sheet_delimiter":false
        }
      }
    },
    {
      "cell_type":"markdown",
      "source":[
        "**Ответ на вопрос (о том как предсказывается значение на объекте):** 22.93 почти 23.6, повезло, да. $$\\\\$$ Алгоритм: $$\\$$\n",
        "RM = 6.416,"
      ],
      "attachments":{
        
      },
      "metadata":{
        "jupyter":{
          "source_hidden":false,
          "outputs_hidden":false
        },
        "datalore":{
          "type":"MD",
          "sheet_delimiter":false
        }
      }
    },
    {
      "cell_type":"markdown",
      "source":[
        "Мы смогли убедиться, что дерево решений действительно строит систему правил, по которым предсказывает цену квартиры. Также мы можем убедиться, что множество возможных предсказаний регрессора сильно ограничено: все они перечислены в листовых вершинах графа. Но в чем же тогда сила деревьев решений, брат? Давайте разбираться дальше."
      ],
      "attachments":{
        
      },
      "metadata":{
        "jupyter":{
          "source_hidden":false,
          "outputs_hidden":false
        },
        "datalore":{
          "type":"MD",
          "sheet_delimiter":false
        }
      }
    },
    {
      "cell_type":"markdown",
      "source":[
        "## Ансамбли решений\n",
        "\n",
        "Теорема Кондорсе о присяжных (ознакомиться можно [здесь](https:\/\/neerc.ifmo.ru\/wiki\/index.php?title=%D0%92%D0%B8%D0%B4%D1%8B_%D0%B0%D0%BD%D1%81%D0%B0%D0%BC%D0%B1%D0%BB%D0%B5%D0%B9#.D0.A2.D0.B5.D0.BE.D1.80.D0.B5.D0.BC.D0.B0_.D0.9A.D0.BE.D0.BD.D0.B4.D0.BE.D1.80.D1.81.D0.B5_.D0.BE_.D0.BF.D1.80.D0.B8.D1.81.D1.8F.D0.B6.D0.BD.D1.8B.D1.85)), переведённая на язык машинного обучения, гласит, что если у нас имеется некоторое количество различных методов, каждый из которых предсказывает величину лучше, чем случайно, то голосование таких методов работает лучше, чем любой из этих методов по отдельности. Давайте попробуем на простом примере проверить эту теорему.\n",
        "\n",
        "### Задание 2.1 (кросс-проверка, 2 балла)\n",
        "**Данные**: датасет со стоимостью недвижимости в Бостоне  \n",
        "**Метрика качества**: MAE  \n",
        "**Цели**: В данном задании следует выполнить следующие пункты:  \n",
        "1. Обучить 3 дерева решений, для каждого при инициализации установить `random_state` равный 1, 2 и 3. В этот раз ограничивать глубину деревьев не нужно.\n",
        "1. Получить предсказание для тестовой выборки от каждого регрессора, а также получить ``усреднённое`` предсказание.\n",
        "1. Посчитать MAE для каждого из деревьев, полученных в первом пункте, а также для усреднённых предсказаний. Сделать вывод о том, стало лучше или нет."
      ],
      "attachments":{
        
      },
      "metadata":{
        "jupyter":{
          "source_hidden":false,
          "outputs_hidden":false
        },
        "datalore":{
          "type":"MD",
          "sheet_delimiter":false
        }
      }
    },
    {
      "cell_type":"code",
      "source":[
        "#Your code here:\n",
        "trees_count = 3\n",
        "predict = [0 for i in range(len(y_test))]\n",
        "MAEs = []\n",
        "for i in range(trees_count):\n",
        "    tree = DecisionTreeRegressor(random_state=i+1)\n",
        "    tree.fit(X_train, y_train)\n",
        "    pred = tree.predict(X_test)\n",
        "    predict += pred \/ trees_count\n",
        "    MAE = sum(abs(pred - y_test)) \/ len(y_train)\n",
        "    MAEs.append(MAE)\n",
        "MAEs.append(sum(abs(np.array(predict) - y_test)) \/ len(y_train))\n",
        "print('Ошибки одиночных деревьев: ', MAEs[:-1])\n",
        "print('Ошибка ансамбля:', MAEs[-1])\n",
        "    "
      ],
      "execution_count":23,
      "outputs":[
        {
          "name":"stdout",
          "text":[
            "Ошибки одиночных деревьев:  [0.879947229551451, 0.9065963060686013, 0.875461741424802]\n",
            "Ошибка ансамбля: 0.8412489006156549\n"
          ],
          "output_type":"stream"
        }
      ],
      "metadata":{
        "jupyter":{
          "source_hidden":false,
          "outputs_hidden":false
        },
        "datalore":{
          "type":"CODE",
          "sheet_delimiter":false
        }
      }
    },
    {
      "cell_type":"markdown",
      "source":[
        "Надеюсь, мы смогли убедиться, что это действительно работает. Правда, улучшение достаточно маленькое. Для революции в машинном обучении этого еще недостаточно.\n",
        "\n",
        "А что влияет на улучшение, которое мы получаем при использовании ансамбля методов? Соответствующая теорема дает достаточно простой ответ: различность методов и ведет к улучшению. Если у нас есть много методов, предсказания которых отличаются незначительно, то их усреднение практически ничего не изменит. Если же у нас есть множество достаточно разных методов, то и их усреднение будет отличаться от предсказаний каждого отдельного метода. Видимо, random_state было недостаточно. Как же нам еще сильнее увеличить различность методов? Ответ вы знаете: использовать случайные признаки и случайную выборку объектов. Это приводит нас к случайным лесам.\n",
        "\n",
        "### Задание 2.2 (кросс-проверка, 1 балл)\n",
        "**Данные**: датасет со стоимостью недвижимости в Бостоне  \n",
        "**Метрика качества**: MAE  \n",
        "**Цели**: В данном задании следует выполнить следующие пункты:  \n",
        "\n",
        "1. Обучить RandomForestRegressor. Для честности следует установить ``n_estimators=3``, то есть сделать число деревьев равным 3 (как мы сделали в предыдущем задании). Для однородности также поставьте ``random_state = 0``\n",
        "1. Посчитать MAE полученных предсказаний. Сравнить их с результатами, полученными в предыдущем пункте. Сделайте вывод."
      ],
      "attachments":{
        
      },
      "metadata":{
        "jupyter":{
          "source_hidden":false,
          "outputs_hidden":false
        },
        "datalore":{
          "type":"MD",
          "sheet_delimiter":false
        }
      }
    },
    {
      "cell_type":"code",
      "source":[
        "#Your code here:\n",
        "rand_forest = RandomForestRegressor(n_estimators=3, random_state=0)\n",
        "rand_forest.fit(X_train, y_train)\n",
        "pred = rand_forest.predict(X_test)\n",
        "print(sum(abs(pred - y_test)) \/ len(y_train))"
      ],
      "execution_count":26,
      "outputs":[
        {
          "name":"stdout",
          "text":[
            "0.8573438874230431\n"
          ],
          "output_type":"stream"
        }
      ],
      "metadata":{
        "jupyter":{
          "source_hidden":false,
          "outputs_hidden":false
        },
        "datalore":{
          "type":"CODE",
          "sheet_delimiter":false
        }
      }
    },
    {
      "cell_type":"markdown",
      "source":[
        "**Вывод по результату**: (ВПИШИТЕ СЮДА ТЕКСТОМ)"
      ],
      "attachments":{
        
      },
      "metadata":{
        "jupyter":{
          "source_hidden":false,
          "outputs_hidden":false
        },
        "datalore":{
          "type":"MD",
          "sheet_delimiter":false
        }
      }
    },
    {
      "cell_type":"markdown",
      "source":[
        "Для революции и этого, кажется, маловато. Давайте продолжим исследовать случайные леса."
      ],
      "attachments":{
        
      },
      "metadata":{
        "jupyter":{
          "source_hidden":false,
          "outputs_hidden":false
        },
        "datalore":{
          "type":"MD",
          "sheet_delimiter":false
        }
      }
    },
    {
      "cell_type":"markdown",
      "source":[
        "## Переобучение и зависимость предсказаний от числа деревьев\n",
        "\n",
        "В прошлом задании мы вручную установили число деревьев в лесу равное трем, чтобы более честно сравниваться с нашим предыдущим ансамблем. Давайте изучим влияние этого параметра на результат предсказаний.\n",
        "\n",
        "### Задание 3.1 (кросс-проверка, 5 баллов)\n",
        "**Данные**: датасет со стоимостью недвижимости в Бостоне   \n",
        "**Метрика качества**: MAE  \n",
        "**Цели**: В данном задании следует выполнить следующие пункты:  \n",
        "1. Обучите 10 случайных лесов, установив random_state=42 и замерив время, потраченное на обучение. Для обучаемых лесов, используйте число деревьев (`n_estimators`) из `np.logspace(1, 4, num=10)` (округлите значения вниз до целых чисел). Таким образом мы получим оценку результата для лесов, построенных с различным числом деревьев.\n",
        "1. Для всех 10 лесов посчитайте MAE на тренировочном и тестовом множествах.\n",
        "1. Постройте график для отображения зависимости времени обучения от числа деревьев в лесу. Вдоль оси Ox отложите число деревьев, участвующих в обучении. На оси Oy отложите время, потраченное на обучение.\n",
        "1. Постройте график для отображения зависимости значения MAE от числа деревьев в лесу. Вдоль оси Ox отложите число деревьев, участвующих в обучении. На оси Oy отложите одним цветом значение MAE на тренировочном множестве, другим цветом MAE на тестовом множестве.\n",
        "1. Проанализируйте результаты и графики, сделайте выводы про время обучения при различном числе деревьев и про качество результатов (в частности - переобучение)"
      ],
      "attachments":{
        
      },
      "metadata":{
        "jupyter":{
          "source_hidden":false,
          "outputs_hidden":false
        },
        "datalore":{
          "type":"MD",
          "sheet_delimiter":false
        }
      }
    },
    {
      "cell_type":"code",
      "source":[
        "#Your code here:"
      ],
      "execution_count":7,
      "outputs":[
        
      ],
      "metadata":{
        "jupyter":{
          "source_hidden":false,
          "outputs_hidden":false
        },
        "datalore":{
          "type":"CODE",
          "sheet_delimiter":false
        }
      }
    },
    {
      "cell_type":"markdown",
      "source":[
        "**Ваши выводы**: (ВПИШИТЕ СЮДА ТЕКСТОМ)"
      ],
      "attachments":{
        
      },
      "metadata":{
        "jupyter":{
          "source_hidden":false,
          "outputs_hidden":false
        },
        "datalore":{
          "type":"MD",
          "sheet_delimiter":false
        }
      }
    },
    {
      "cell_type":"markdown",
      "source":[
        "Как мы с вами знаем, случайный лес постепенно улучшает качество предсказаний, увеличивая число деревьев в ансамбле. А что если мы обучили лес, но хотим `нарастить` его, добавив несколько деревьев? Или даже если к нам пришли новые данные и мы хотим добавить деревьев, обученных на них, но не удалять деревья, построенные на предыдущих данных? Такой трюк возможен, и для этого следует использовать warm_start. То, как правильно использовать warm_start можно глянуть [тут](https:\/\/stackoverflow.com\/questions\/42757892\/how-to-use-warm-start\/42763502)\n",
        "\n",
        "### Задание 3.2 (кросс-проверка, 5 баллов)\n",
        "**Данные**: датасет со стоимостью недвижимости в Бостоне   \n",
        "**Метрика качества**: MAE  \n",
        "**Цели**: В данном задании следует выполнить следующие пункты:  \n",
        "\n",
        "1. Создайте случайный лес со следующими параметрами: n_estimators = 1000, warm_start = True, random_state=42\n",
        "2. Обучите полученный лес, засекая время, потраченное на обучение, и измерив качество предсказания на тесте по MAE\n",
        "3. Увеличьте число деревьев в лесу. Для этого увеличьте число n_estimators на 1000.\n",
        "4. Воспользуйтесь методом fit, чтобы дообучить новые деревья. Не забудьте замерить время и качество!\n",
        "5. Повторяйте два предыдущих шага до тех пор, пока вы не оцените лес с 10000 деревьями.\n",
        "6. Постройте графики качества и времени от количества деревьев (время считайте отдельно для каждого дообучения, без учета затрат на предыдущие итерации)\n",
        "7. Проанализируйте результаты и графики, сделайте выводы про время обучения и качество, сравните с результатом из предыдущего пункта"
      ],
      "attachments":{
        
      },
      "metadata":{
        "jupyter":{
          "source_hidden":false,
          "outputs_hidden":false
        },
        "datalore":{
          "type":"MD",
          "sheet_delimiter":false
        }
      }
    },
    {
      "cell_type":"code",
      "source":[
        "#Your code here:"
      ],
      "execution_count":8,
      "outputs":[
        
      ],
      "metadata":{
        "jupyter":{
          "source_hidden":false,
          "outputs_hidden":false
        },
        "datalore":{
          "type":"CODE",
          "sheet_delimiter":false
        }
      }
    },
    {
      "cell_type":"markdown",
      "source":[
        "**Ваши выводы**: (ВПИШИТЕ СЮДА ТЕКСТОМ)"
      ],
      "attachments":{
        
      },
      "metadata":{
        "jupyter":{
          "source_hidden":false,
          "outputs_hidden":false
        },
        "datalore":{
          "type":"MD",
          "sheet_delimiter":false
        }
      }
    },
    {
      "cell_type":"markdown",
      "source":[
        "## Важность признаков\n",
        "\n",
        "С этого момента мы изменим датасет и попытаемся поиграться с физикой: возьмем коллекцию различных потенциалов и для них будем предсказывать некоторую физическую величину. Обученные физики говорят, что эта величина зависит от формы и глубины потенциала, а значит и мы можем тут чему-то научиться. Ранее эту задачу пытались решить с помощью сверточных нейронных сетей. А получится ли это у нас с помощью деревьев?\n",
        "\n",
        "Загрузим датасет и посмотрим как он выглядит:\n"
      ],
      "attachments":{
        
      },
      "metadata":{
        "jupyter":{
          "source_hidden":false,
          "outputs_hidden":false
        },
        "datalore":{
          "type":"MD",
          "sheet_delimiter":false
        }
      }
    },
    {
      "cell_type":"code",
      "source":[
        "chosen_ones = {'b2399918793e4228a3ea0a0a89adf11b.npz', '513d5523d14c47feb8b544138071c496.npz', 'ca9f96c404b740e3b28f583f9d9afbf8.npz'}\n",
        "\n",
        "plt.figure(figsize=(12, 10))\n",
        "\n",
        "def get_potential_dataset():\n",
        "    \"\"\"Return the training and testing splits of the potential dataset\"\"\"\n",
        "    X, y = [], []\n",
        "\n",
        "    plot_index = 1\n",
        "    \n",
        "\n",
        "    for f in os.listdir('.\/dataset\/'):\n",
        "\n",
        "        npz = np.load(f'.\/dataset\/{f}')\n",
        "        data, target = npz['data'], npz['target']\n",
        "\n",
        "        X.append(data)\n",
        "        y.append(target)\n",
        "\n",
        "        if f in chosen_ones:\n",
        "            plt.subplot(len(chosen_ones), 1, plot_index)\n",
        "            plt.imshow(data, origin=\"lower\", interpolation='none')\n",
        "            plt.colorbar()\n",
        "            plot_index += 1\n",
        "    plt.show()\n",
        "    return train_test_split(np.array(X), np.array(y), random_state=42)\n",
        "\n",
        "X_train, X_test, y_train, y_test = get_potential_dataset()\n"
      ],
      "execution_count":9,
      "outputs":[
        {
          "ename":"FileNotFoundError",
          "evalue":"FileNotFoundError: [Errno 2] No such file or directory: '.\/dataset\/'",
          "traceback":[
            "\u001b[0;31m---------------------------------------------------------------------------",
            "Traceback (most recent call last)",
            "    at line 28 in <module>",
            "    at line 12 in get_potential_dataset()",
            "FileNotFoundError: [Errno 2] No such file or directory: '.\/dataset\/'"
          ],
          "output_type":"error"
        },
        {
          "data":{
            "text\/plain":[
              "<Figure size 864x720 with 0 Axes>"
            ]
          },
          "metadata":{
            
          },
          "output_type":"display_data"
        }
      ],
      "metadata":{
        "jupyter":{
          "source_hidden":false,
          "outputs_hidden":false
        },
        "datalore":{
          "type":"CODE",
          "sheet_delimiter":false
        }
      }
    },
    {
      "cell_type":"markdown",
      "source":[
        "Можно увидеть, что у нас имеется три типа потенциалов: два с бесконечно крутыми стенками, квадратный и эллиптический (их значение резко меняется на 0) и гармонический (красивый круглый, он плавно спускается к своему минимуму). В местах, где потенциала нет, значение матрицы равно 20.\n",
        "\n",
        "Видно одну проблему: картинки квадратные (каждое изображение `256 х 256`), а большинство методов машинного обучение работает с векторами-признаками, и нам придется с этим позже разобраться. И еще более крупная проблема: потенциалы находятся в \"случайных\" местах рисунка. Возможно, позже нам придется с этим разобраться. Но вернёмся к нашим баранам. У линейных регрессоров есть одно очень полезное свойство: после обучения мы ``из коробки`` получаем важность признаков: чем выше коэффициент (или абсолютное его значение), стоящий у соответствующего признака, тем он важнее. Деревья решений не обладают столь же ``естественной`` оценкой важности признаков, однако мы всё равно можем её оценить. Называется эта оценка критерием Джини: она вычисляет то, как начинают ``ошибаться`` предсказания регрессора, если исключить данный признак. Чем сильнее ошибка, тем важнее признак. К нашей радости, sklearn так же ``из коробки`` включает данные оценки признаков. Давайте попробуем воспользоваться этой функцией и посмотреть на важность признаков."
      ],
      "attachments":{
        
      },
      "metadata":{
        "jupyter":{
          "source_hidden":false,
          "outputs_hidden":false
        },
        "datalore":{
          "type":"MD",
          "sheet_delimiter":false
        }
      }
    },
    {
      "cell_type":"markdown",
      "source":[
        "### Задание 4.1 (кросс-проверка, 5 баллов)\n",
        "**Данные**: потенциалы  \n",
        "**Метрика качества**: MAE  \n",
        "**Цели**: В данном задании следует выполнить следующие пункты:  \n",
        "1. Воспользоваться классом PotentialTransformer для преобразования двумерной матрицы в одномерный вектор\n",
        "2. Воспользоваться классом Pipeline, чтобы \"объединить\" трансформатор и обучаемый метод\n",
        "3. Обучить LinearSVR из sklearn на этом датасете.\n",
        "4. Обучить RandomForestRegressor из sklearn на этом датасете.\n",
        "5. Извлеките важность признаков из обученного леса с помощью `feature_importances_`. Извлеките также коэффициенты svm через coef_ (брать абсолютные значения необязательно).\n",
        "6. Преобразуйте одномерный вектор важностей признаков в двумерную картинку таким образом, чтобы их можно было сравнивать с исходными потенциалами. Постройте рисунки важностей признаков с помощью plt.imshow. Добавьте легенду.\n",
        "7. Оцените качество предсказаний через метод .predict.\n",
        "8. Проанализируйте результаты. Можно ли сказать что у обоих методов получились одинаковые важности признаков? Можно ли сказать, что важность признаков отображает структуру потенциалов?"
      ],
      "attachments":{
        
      },
      "metadata":{
        "jupyter":{
          "source_hidden":false,
          "outputs_hidden":false
        },
        "datalore":{
          "type":"MD",
          "sheet_delimiter":false
        }
      }
    },
    {
      "cell_type":"code",
      "source":[
        "class PotentialTransformer:\n",
        "    \"\"\"\n",
        "    A potential transformer.\n",
        "\n",
        "    This class is used to convert the potential's 2d matrix to 1d vector of features.\n",
        "    \"\"\"\n",
        "\n",
        "    def fit(self, x, y):\n",
        "        \"\"\"\n",
        "        Build the transformer on the training set.\n",
        "        :param x: list of potential's 2d matrices\n",
        "        :param y: target values (can be ignored)\n",
        "        :return: trained transformer\n",
        "        \"\"\"\n",
        "        return self\n",
        "\n",
        "    def fit_transform(self, x, y):\n",
        "        \"\"\"\n",
        "        Build the transformer on the training set and return the transformed dataset (1d vectors).\n",
        "        :param x: list of potential's 2d matrices\n",
        "        :param y: target values (can be ignored)\n",
        "        :return: transformed potentials (list of 1d vectors)\n",
        "        \"\"\"\n",
        "        return self.transform(x)\n",
        "\n",
        "    def transform(self, x):\n",
        "        \"\"\"\n",
        "        Transform the list of potential's 2d matrices with the trained transformer.\n",
        "        :param x: list of potential's 2d matrices\n",
        "        :return: transformed potentials (list of 1d vectors)\n",
        "        \"\"\"\n",
        "        return x.reshape((x.shape[0], -1))\n",
        "\n",
        "# Your code here:"
      ],
      "execution_count":0,
      "outputs":[
        
      ],
      "metadata":{
        "jupyter":{
          "source_hidden":false,
          "outputs_hidden":false
        },
        "datalore":{
          "type":"CODE",
          "sheet_delimiter":false
        }
      }
    },
    {
      "cell_type":"markdown",
      "source":[
        "**Ваши выводы**: (ВПИШИТЕ СЮДА ТЕКСТОМ)"
      ],
      "attachments":{
        
      },
      "metadata":{
        "jupyter":{
          "source_hidden":false,
          "outputs_hidden":false
        },
        "datalore":{
          "type":"MD",
          "sheet_delimiter":false
        }
      }
    },
    {
      "cell_type":"markdown",
      "source":[
        "Если всё сделано верно, то в предыдущем задании вы должны были увидеть некоторый сумбур в коэффициентах svm. Можно увидеть, как некоторые потенциалы \"отпечатались\" в признаках, т.е. метод явно запомнил ответ, не пытаясь их обобщить. Видимо, нужно каким-то образом \"стандартизировать\" потенциалы, чтобы было легче \"обобщать\" их. К примеру, можно попробовать параллельно передвигать потенциал таким образом, чтобы в центре всегда оказывалось минимальное значение (места на матрице, не заполненные потенциалами, заполняются 20). Возможно вы заметите и другие \"проблемы\" или найдёте более элегантные решения, которые смогут помочь Вам улучшить результат.\n",
        "\n",
        "**Внимание!** В этом задании разрешено пользоваться лишь методами, основанными на деревьях решений и их ансамблях (лесах). Пользоваться бустингом лесов нельзя (про них будет отдельное домашнее задание). Со списком лесов, которые реализованы в пакете sklearn.ensemble, можно ознакомиться [тут](https:\/\/scikit-learn.org\/stable\/modules\/classes.html#module-sklearn.ensemble). По описанию метода убедитесь, что бустинг в нём не применяется.\n",
        "\n",
        "В задании на cv-gml.ru установлено ограничение по времени обучения в 10 минут. Поэтому, если вы будете перебирать параметры по сетке, то такой перебор может вполне занять несколько часов. Однако учтите, что время обучения леса зависит от способности леса построить оптимальное разбиение! Если ваше обучение проходит непозволительно долго, то, вероятно, лесам не удаётся подобрать хорошее оптимальное разбиение, а значит вам нужно подумать об ином трансформаторе."
      ],
      "attachments":{
        
      },
      "metadata":{
        "jupyter":{
          "source_hidden":false,
          "outputs_hidden":false
        },
        "datalore":{
          "type":"MD",
          "sheet_delimiter":false
        }
      }
    },
    {
      "cell_type":"markdown",
      "source":[
        "**Внимание! Следующее задание проверяться на кросс-проверке НЕ БУДЕТ! Это решение нужно будет загрузить в проверяющую систему в задание `Деревья решений (ML)`** Здесь вы можете просто поиграть с данными и решением, подобрать оптимальные параметры на кросс-валидации"
      ],
      "attachments":{
        
      },
      "metadata":{
        "jupyter":{
          "source_hidden":false,
          "outputs_hidden":false
        },
        "datalore":{
          "type":"MD",
          "sheet_delimiter":false
        }
      }
    },
    {
      "cell_type":"markdown",
      "source":[
        "### Задание 4.2 (ML-задание, 15 баллов)\n",
        "**Данные**: потенциалы  \n",
        "**Метрика качества**: MAE  \n",
        "**Цели**: В данном задании следует выполнить следующие пункты:  \n",
        "1. Улучшить метод PotentialTransformer, чтобы \"стандартизировать\" данные (к примеру, переносить потенциалы в одно и то же место)\n",
        "2. Воспользоваться классом Pipeline, чтобы \"объединить\" трансформатор и обучаемый метод\n",
        "3. Обучить лучшие деревья на диком западе (можно воспользоваться любой реализацией лесов из sklearn).\n",
        "4. Отобразить важность признаков получившегося дерева\/леса\n",
        "5. Загрузить решение в тестирующую систему"
      ],
      "attachments":{
        
      },
      "metadata":{
        "jupyter":{
          "source_hidden":false,
          "outputs_hidden":false
        },
        "datalore":{
          "type":"MD",
          "sheet_delimiter":false
        }
      }
    },
    {
      "cell_type":"code",
      "source":[
        "# Your code here:"
      ],
      "execution_count":0,
      "outputs":[
        
      ],
      "metadata":{
        "jupyter":{
          "source_hidden":false,
          "outputs_hidden":false
        },
        "datalore":{
          "type":"CODE",
          "sheet_delimiter":false
        }
      }
    },
    {
      "cell_type":"markdown",
      "source":[
        "Ну что, детишки. Поздравляю с еще одним выполненным ДЗ!\n"
      ],
      "attachments":{
        
      },
      "metadata":{
        "jupyter":{
          "source_hidden":false,
          "outputs_hidden":false
        },
        "datalore":{
          "type":"MD",
          "sheet_delimiter":false
        }
      }
    }
  ],
  "metadata":{
    "datalore":{
      "version":1,
      "computation_mode":"JUPYTER",
      "package_manager":"pip",
      "base_environment":"default",
      "packages":[
        
      ]
    }
  },
  "nbformat":4,
  "nbformat_minor":4
}